{
 "cells": [
  {
   "cell_type": "markdown",
   "source": [
    "<h1> 모바일폰이나 카메라에 저장한 사진 중 빨간생, 파란색, 초록색 물건을 찍은 사진 몇장을 준비해보자 </h1>"
   ],
   "metadata": {
    "collapsed": false,
    "pycharm": {
     "name": "#%% md\n"
    }
   }
  },
  {
   "cell_type": "markdown",
   "source": [
    "<h2>a. 각 이미지를 읽어 텐서로 변환하라. </h2>"
   ],
   "metadata": {
    "collapsed": false,
    "pycharm": {
     "name": "#%% md\n"
    }
   }
  },
  {
   "cell_type": "code",
   "execution_count": 48,
   "outputs": [
    {
     "name": "stdout",
     "output_type": "stream",
     "text": [
      "Red image type:  <class 'torch.Tensor'>\n",
      "Red image Size:  torch.Size([3, 225, 225])\n",
      "Green image Type:  <class 'torch.Tensor'>\n",
      "Green image Size:  torch.Size([3, 225, 225])\n",
      "Blue image Type:  <class 'torch.Tensor'>\n",
      "Blue image Size:  torch.Size([3, 225, 225])\n"
     ]
    },
    {
     "name": "stderr",
     "output_type": "stream",
     "text": [
      "/var/folders/_8/f01m572x6p92rlcwsxqg2gqc0000gn/T/ipykernel_29446/2320032584.py:5: DeprecationWarning: Starting with ImageIO v3 the behavior of this function will switch to that of iio.v3.imread. To keep the current behavior (and make this warning disappear) use `import imageio.v2 as imageio` or call `imageio.v2.imread` directly.\n",
      "  red_img = imageio.imread('../data/red.jpeg')\n",
      "/var/folders/_8/f01m572x6p92rlcwsxqg2gqc0000gn/T/ipykernel_29446/2320032584.py:6: DeprecationWarning: Starting with ImageIO v3 the behavior of this function will switch to that of iio.v3.imread. To keep the current behavior (and make this warning disappear) use `import imageio.v2 as imageio` or call `imageio.v2.imread` directly.\n",
      "  green_img = imageio.imread('../data/green.jpeg')\n",
      "/var/folders/_8/f01m572x6p92rlcwsxqg2gqc0000gn/T/ipykernel_29446/2320032584.py:7: DeprecationWarning: Starting with ImageIO v3 the behavior of this function will switch to that of iio.v3.imread. To keep the current behavior (and make this warning disappear) use `import imageio.v2 as imageio` or call `imageio.v2.imread` directly.\n",
      "  blue_img = imageio.imread('../data/blue.jpeg')\n"
     ]
    }
   ],
   "source": [
    "import imageio\n",
    "import torch\n",
    "from torchvision import transforms\n",
    "\n",
    "red_img = imageio.imread('../data/red.jpeg')\n",
    "green_img = imageio.imread('../data/green.jpeg')\n",
    "blue_img = imageio.imread('../data/blue.jpeg')\n",
    "\n",
    "tf = transforms.ToTensor()\n",
    "red_img_tensor = tf(red_img)\n",
    "green_img_tensor = tf(green_img)\n",
    "blue_img_tensor = tf(blue_img)\n",
    "\n",
    "print(\"Red image type: \", type(red_img_tensor))\n",
    "print(\"Red image Size: \", red_img_tensor.size())\n",
    "print(\"Green image Type: \", type(green_img_tensor))\n",
    "print(\"Green image Size: \", green_img_tensor.size())\n",
    "print(\"Blue image Type: \", type(blue_img_tensor))\n",
    "print(\"Blue image Size: \", blue_img_tensor.size())\n"
   ],
   "metadata": {
    "collapsed": false,
    "pycharm": {
     "name": "#%%\n"
    }
   }
  },
  {
   "cell_type": "markdown",
   "source": [
    "<h2>b. 각 이미지 텐서에 대해 .mean() 메소드를 사용해 이미지가 얼마나 밝은지 확인하라. </h2>"
   ],
   "metadata": {
    "collapsed": false,
    "pycharm": {
     "name": "#%% md\n"
    }
   }
  },
  {
   "cell_type": "code",
   "execution_count": 46,
   "outputs": [
    {
     "name": "stdout",
     "output_type": "stream",
     "text": [
      "Mean value of red image:  tensor(0.8210)\n",
      "Mean value of green image:  tensor(0.7305)\n",
      "Mean value of blue image:  tensor(0.8285)\n"
     ]
    }
   ],
   "source": [
    "red_img_mean = torch.mean(red_img_tensor)\n",
    "green_img_mean = torch.mean(green_img_tensor)\n",
    "blue_img_mean = torch.mean(blue_img_tensor)\n",
    "\n",
    "\n",
    "print(\"Mean value of red image: \", red_img_mean)\n",
    "print(\"Mean value of green image: \", green_img_mean)\n",
    "print(\"Mean value of blue image: \", blue_img_mean)\n",
    "\n"
   ],
   "metadata": {
    "collapsed": false,
    "pycharm": {
     "name": "#%%\n"
    }
   }
  },
  {
   "cell_type": "markdown",
   "source": [
    "<h3> 이미지의 밝기 순서는 blue > red > green 순이다 </h3>"
   ],
   "metadata": {
    "collapsed": false,
    "pycharm": {
     "name": "#%% md\n"
    }
   }
  },
  {
   "cell_type": "markdown",
   "source": [
    "<h2> c. 이미지의 각 채널 평균을 구해보라. 채 평균값만으로 빨간색, 파란색, 초록색 물건을 구별 할 수 있는가?</h2>"
   ],
   "metadata": {
    "collapsed": false,
    "pycharm": {
     "name": "#%% md\n"
    }
   }
  },
  {
   "cell_type": "code",
   "execution_count": 50,
   "outputs": [
    {
     "name": "stdout",
     "output_type": "stream",
     "text": [
      "Red image red channel mean value: tensor(0.9311)\n",
      "Red image green channel mean value: tensor(0.7673)\n",
      "Red image blue channel mean value: tensor(0.7645)\n",
      "Max channel mean value of channel mean value:  tensor(0.9311)\n",
      "\n",
      "Green image red channel mean value: tensor(0.6662)\n",
      "Green image green channel mean value: tensor(0.8021)\n",
      "Green image blue channel mean value: tensor(0.7231)\n",
      "Max channel mean value of channel mean value:  tensor(0.8021)\n",
      "\n",
      "Blue image red channel mean value: tensor(0.7103)\n",
      "Blue image green channel mean value: tensor(0.8080)\n",
      "Blue image blue channel mean value: tensor(0.9671)\n",
      "Max channel mean value of channel mean value:  tensor(0.9671)\n",
      "\n"
     ]
    }
   ],
   "source": [
    "red_img_red_channel_mean = torch.mean(red_img_tensor[0])\n",
    "red_img_green_channel_mean = torch.mean(red_img_tensor[1])\n",
    "red_img_blue_channel_mean = torch.mean(red_img_tensor[2])\n",
    "\n",
    "green_img_red_channel_mean = torch.mean(green_img_tensor[0])\n",
    "green_img_green_channel_mean = torch.mean(green_img_tensor[1])\n",
    "green_img_blue_channel_mean = torch.mean(green_img_tensor[2])\n",
    "\n",
    "blue_img_red_channel_mean = torch.mean(blue_img_tensor[0])\n",
    "blue_img_green_channel_mean = torch.mean(blue_img_tensor[1])\n",
    "blue_img_blue_channel_mean = torch.mean(blue_img_tensor[2])\n",
    "\n",
    "print(\"Red image red channel mean value:\", red_img_red_channel_mean)\n",
    "print(\"Red image green channel mean value:\", red_img_green_channel_mean)\n",
    "print(\"Red image blue channel mean value:\", red_img_blue_channel_mean)\n",
    "print(\"Max channel mean value of channel mean value: \", red_img_red_channel_mean)\n",
    "print()\n",
    "\n",
    "print(\"Green image red channel mean value:\", green_img_red_channel_mean)\n",
    "print(\"Green image green channel mean value:\", green_img_green_channel_mean)\n",
    "print(\"Green image blue channel mean value:\", green_img_blue_channel_mean)\n",
    "print(\"Max channel mean value of channel mean value: \", green_img_green_channel_mean)\n",
    "print()\n",
    "\n",
    "print(\"Blue image red channel mean value:\", blue_img_red_channel_mean)\n",
    "print(\"Blue image green channel mean value:\", blue_img_green_channel_mean)\n",
    "print(\"Blue image blue channel mean value:\", blue_img_blue_channel_mean)\n",
    "print(\"Max channel mean value of channel mean value: \", blue_img_blue_channel_mean)\n",
    "print()"
   ],
   "metadata": {
    "collapsed": false,
    "pycharm": {
     "name": "#%%\n"
    }
   }
  },
  {
   "cell_type": "markdown",
   "source": [
    "<h3> 각 이미지 채널의 평균 값을 비교한 결과에서 채널의 평균값은 물체의 색깔과 같을 수록 높다.</h3>\n",
    "<h3> 따라서 채널의 평균값으로 물체를 구별할 수 있다.</h3>"
   ],
   "metadata": {
    "collapsed": false,
    "pycharm": {
     "name": "#%% md\n"
    }
   }
  }
 ],
 "metadata": {
  "kernelspec": {
   "display_name": "Python 3",
   "language": "python",
   "name": "python3"
  },
  "language_info": {
   "codemirror_mode": {
    "name": "ipython",
    "version": 2
   },
   "file_extension": ".py",
   "mimetype": "text/x-python",
   "name": "python",
   "nbconvert_exporter": "python",
   "pygments_lexer": "ipython2",
   "version": "2.7.6"
  }
 },
 "nbformat": 4,
 "nbformat_minor": 0
}