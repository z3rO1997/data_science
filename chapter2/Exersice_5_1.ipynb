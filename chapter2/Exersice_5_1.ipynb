{
 "cells": [
  {
   "cell_type": "markdown",
   "source": [
    "<h1> 모델을 w2 * t_u ** 2 + w1 * t_u + b로 다시 정의하자. </h1>"
   ],
   "metadata": {
    "collapsed": false,
    "pycharm": {
     "name": "#%% md\n"
    }
   }
  },
  {
   "cell_type": "code",
   "execution_count": 46,
   "outputs": [
    {
     "name": "stdout",
     "output_type": "stream",
     "text": [
      "tensor(11709471., grad_fn=<MeanBackward0>)\n",
      "tensor([3.6181e+05, 2.3149e+07, 5.9642e+03])\n"
     ]
    }
   ],
   "source": [
    "import numpy as np\n",
    "import torch\n",
    "\n",
    "t_c = torch.tensor([0.5, 14.0, 15.0, 28.0, 11.0, 8.0,\n",
    "                    3.0, -4.0, 6.0, 13.0, 21.0])\n",
    "t_u = torch.tensor([35.7, 55.9, 58.2, 81.9, 56.3, 48.9,\n",
    "                    33.9, 21.8, 48.4, 60.4, 68.4])\n",
    "\n",
    "def model(t_u, w1, w2, b):\n",
    "    return (w2 * t_u ** 2) + (w1 * t_u + b)\n",
    "\n",
    "def loss_fn(t_p, t_c):\n",
    "    squared_diffs = (t_p - t_c)**2\n",
    "    return squared_diffs.mean()\n",
    "\n",
    "params = torch.tensor([1.0, 1.0, 0.0], requires_grad=True)\n",
    "\n",
    "loss = loss_fn(model(t_u, *params), t_c)\n",
    "loss.backward()\n",
    "\n",
    "print(loss)\n",
    "print(params.grad)"
   ],
   "metadata": {
    "collapsed": false,
    "pycharm": {
     "name": "#%%\n"
    }
   }
  },
  {
   "cell_type": "code",
   "execution_count": 47,
   "outputs": [],
   "source": [
    "def training_loop(n_epochs, learning_rate, params, t_u, t_c):\n",
    "    for epoch in range(1, n_epochs + 1):\n",
    "        if params.grad is not None:  # <1>\n",
    "            params.grad.zero_()\n",
    "\n",
    "        t_p = model(t_u, *params)\n",
    "        loss = loss_fn(t_p, t_c)\n",
    "        loss.backward()\n",
    "\n",
    "        with torch.no_grad():  # <2>\n",
    "            params -= learning_rate * params.grad\n",
    "\n",
    "        if epoch % 500 == 0:\n",
    "         print('Epoch %d, Loss %f' % (epoch, float(loss)))\n",
    "\n",
    "    return params"
   ],
   "metadata": {
    "collapsed": false,
    "pycharm": {
     "name": "#%%\n"
    }
   }
  },
  {
   "cell_type": "code",
   "execution_count": 48,
   "outputs": [
    {
     "name": "stdout",
     "output_type": "stream",
     "text": [
      "Epoch 500, Loss 10.708597\n",
      "Epoch 1000, Loss 8.642083\n",
      "Epoch 1500, Loss 7.171005\n",
      "Epoch 2000, Loss 6.123476\n",
      "Epoch 2500, Loss 5.377227\n",
      "Epoch 3000, Loss 4.845286\n",
      "Epoch 3500, Loss 4.465786\n",
      "Epoch 4000, Loss 4.194726\n",
      "Epoch 4500, Loss 4.000802\n",
      "Epoch 5000, Loss 3.861745\n"
     ]
    },
    {
     "data": {
      "text/plain": "tensor([-0.8881,  0.5570, -0.8753], requires_grad=True)"
     },
     "execution_count": 48,
     "metadata": {},
     "output_type": "execute_result"
    }
   ],
   "source": [
    "training_loop(\n",
    "    n_epochs = 5000,\n",
    "    learning_rate = 0.0001,\n",
    "    params = torch.tensor([1.0, 1.0, 0.0], requires_grad=True), # <1>\n",
    "    t_u = t_u*0.1, # <2>\n",
    "    t_c = t_c)"
   ],
   "metadata": {
    "collapsed": false,
    "pycharm": {
     "name": "#%%\n"
    }
   }
  },
  {
   "cell_type": "markdown",
   "source": [
    "<h2>a. 이 모델을 다루기 위해 훈련 루프의 어떤 부분을 변경해야 하나? </h2>\n",
    "<h3> - 모델과 파라미터 부분을 변경했습니다. </h3>"
   ],
   "metadata": {
    "collapsed": false,
    "pycharm": {
     "name": "#%% md\n"
    }
   }
  },
  {
   "cell_type": "markdown",
   "source": [
    "<h2>b. 모델 변경과 무관한 부분은 어디인가? </h2>\n",
    "<h3> - loss function 입니다. </h3>"
   ],
   "metadata": {
    "collapsed": false,
    "pycharm": {
     "name": "#%% md\n"
    }
   }
  },
  {
   "cell_type": "markdown",
   "source": [
    "<h2>c. 훈련 후 손실이 증가하는가 감소하는가? </h2>\n",
    "<h3> - 훈련 후 손실은 감소하는 결과를 보입니다. </h3>"
   ],
   "metadata": {
    "collapsed": false,
    "pycharm": {
     "name": "#%% md\n"
    }
   }
  },
  {
   "cell_type": "markdown",
   "source": [
    "<h2>d. 실제 결과가 좋아졌나 나빠졌나?</h2>\n",
    "<h3> - 비슷하다고 생각합니다. </h3>"
   ],
   "metadata": {
    "collapsed": false,
    "pycharm": {
     "name": "#%% md\n"
    }
   }
  },
  {
   "cell_type": "code",
   "execution_count": 48,
   "outputs": [],
   "source": [],
   "metadata": {
    "collapsed": false,
    "pycharm": {
     "name": "#%%\n"
    }
   }
  }
 ],
 "metadata": {
  "kernelspec": {
   "display_name": "Python 3",
   "language": "python",
   "name": "python3"
  },
  "language_info": {
   "codemirror_mode": {
    "name": "ipython",
    "version": 2
   },
   "file_extension": ".py",
   "mimetype": "text/x-python",
   "name": "python",
   "nbconvert_exporter": "python",
   "pygments_lexer": "ipython2",
   "version": "2.7.6"
  }
 },
 "nbformat": 4,
 "nbformat_minor": 0
}